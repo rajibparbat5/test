{
 "cells": [
  {
   "cell_type": "code",
   "execution_count": 1,
   "id": "b5bc3a29-0a55-4adf-8b63-e7057fbab570",
   "metadata": {},
   "outputs": [],
   "source": [
    "import requests"
   ]
  },
  {
   "cell_type": "code",
   "execution_count": 2,
   "id": "d959ef8b-8a3a-422a-9173-91623268c2bf",
   "metadata": {},
   "outputs": [],
   "source": [
    "session = requests.session()"
   ]
  },
  {
   "cell_type": "code",
   "execution_count": 3,
   "id": "ac08ff68-c8ea-42a7-8c1c-31ce3fdab67c",
   "metadata": {},
   "outputs": [
    {
     "data": {
      "text/plain": [
       "<RequestsCookieJar[]>"
      ]
     },
     "execution_count": 3,
     "metadata": {},
     "output_type": "execute_result"
    }
   ],
   "source": [
    "session.cookies"
   ]
  },
  {
   "cell_type": "code",
   "execution_count": 7,
   "id": "6ff4aa17-28c5-4c0b-8161-2fb4e31968bd",
   "metadata": {},
   "outputs": [],
   "source": [
    "home_link = \"https://cado.eservices.gov.nl.ca/CADOInternet/Main.aspx\""
   ]
  },
  {
   "cell_type": "code",
   "execution_count": 8,
   "id": "df5781cf-33bb-46ef-96a2-91297e139618",
   "metadata": {},
   "outputs": [],
   "source": [
    "home_header = {\n",
    "    'Accept': 'text/html,application/xhtml+xml,application/xml;q=0.9,image/avif,image/webp,image/apng,*/*;q=0.8,application/signed-exchange;v=b3;q=0.7',\n",
    "    'Accept-Encoding': 'gzip, deflate, br',\n",
    "    'Accept-Language': 'en-GB,en-US;q=0.9,en;q=0.8',\n",
    "    'Cache-Control': 'no-cache',\n",
    "    'Connection': 'keep-alive',\n",
    "    # 'Cookie': 'cookiesession1=678B288EB5CCF83226E13BAA870BED72; ASP.NET_SessionId=42f4q555nwusca55a3x5jxny',\n",
    "    'Host': 'cado.eservices.gov.nl.ca',\n",
    "    'Pragma': 'no-cache',\n",
    "    'Sec-Ch-Ua': '\"Not A(Brand\";v=\"99\", \"Google Chrome\";v=\"121\", \"Chromium\";v=\"121\"',\n",
    "    'Sec-Ch-Ua-Mobile': '?0',\n",
    "    'Sec-Ch-Ua-Platform': '\"Windows\"',\n",
    "    'Sec-Fetch-Dest': 'document',\n",
    "    'Sec-Fetch-Mode': 'navigate',\n",
    "    'Sec-Fetch-Site': 'none',\n",
    "    'Sec-Fetch-User': '?1',\n",
    "    'Upgrade-Insecure-Requests': '1',\n",
    "    'User-Agent': 'Mozilla/5.0 (Windows NT 10.0; Win64; x64) AppleWebKit/537.36 (KHTML, like Gecko) Chrome/121.0.0.0 Safari/537.36'\n",
    "}"
   ]
  },
  {
   "cell_type": "code",
   "execution_count": 9,
   "id": "a0c83511-59ed-4e8b-88de-83a810e1b8dd",
   "metadata": {},
   "outputs": [],
   "source": [
    "homepage = session.get(home_link,headers = home_header)"
   ]
  },
  {
   "cell_type": "code",
   "execution_count": 10,
   "id": "ae613cd8-f92b-466e-b96b-8c7c42440a13",
   "metadata": {},
   "outputs": [
    {
     "data": {
      "text/plain": [
       "<Response [200]>"
      ]
     },
     "execution_count": 10,
     "metadata": {},
     "output_type": "execute_result"
    }
   ],
   "source": [
    "homepage"
   ]
  },
  {
   "cell_type": "code",
   "execution_count": 11,
   "id": "d849a632-7f28-4fa2-af7f-6cd929876a0c",
   "metadata": {},
   "outputs": [
    {
     "data": {
      "text/plain": [
       "<RequestsCookieJar[Cookie(version=0, name='ASP.NET_SessionId', value='hjwohm45lavaxn55klhhsc45', port=None, port_specified=False, domain='cado.eservices.gov.nl.ca', domain_specified=False, domain_initial_dot=False, path='/', path_specified=True, secure=False, expires=None, discard=True, comment=None, comment_url=None, rest={}, rfc2109=False), Cookie(version=0, name='cookiesession1', value='678B288E4BB506FD4430A042C8D8CC9B', port=None, port_specified=False, domain='cado.eservices.gov.nl.ca', domain_specified=False, domain_initial_dot=False, path='/', path_specified=True, secure=False, expires=1739898599, discard=False, comment=None, comment_url=None, rest={'HttpOnly': None}, rfc2109=False)]>"
      ]
     },
     "execution_count": 11,
     "metadata": {},
     "output_type": "execute_result"
    }
   ],
   "source": [
    "session.cookies"
   ]
  },
  {
   "cell_type": "code",
   "execution_count": 13,
   "id": "494518f4-f046-4628-a18a-5ba18845accb",
   "metadata": {},
   "outputs": [],
   "source": [
    "with open(\"1.html\",'wb') as f:\n",
    "    f.write(homepage.content)"
   ]
  },
  {
   "cell_type": "code",
   "execution_count": null,
   "id": "5e505ceb-5459-4b7c-82ab-30f1d49e882c",
   "metadata": {},
   "outputs": [],
   "source": []
  },
  {
   "cell_type": "code",
   "execution_count": null,
   "id": "7ae50ec4-e609-4229-9ae8-faaa28fd8b2b",
   "metadata": {},
   "outputs": [],
   "source": []
  },
  {
   "cell_type": "code",
   "execution_count": null,
   "id": "a2a921bf-8727-4a24-b3de-22259c5dc029",
   "metadata": {},
   "outputs": [],
   "source": []
  },
  {
   "cell_type": "code",
   "execution_count": 14,
   "id": "7d2990ce-b316-4c92-94db-de0bcc702e35",
   "metadata": {},
   "outputs": [],
   "source": [
    "search_link=\"https://cado.eservices.gov.nl.ca/CadoInternet/Company/CompanyNameNumberSearch.aspx\""
   ]
  },
  {
   "cell_type": "code",
   "execution_count": 15,
   "id": "d29007b3-c206-4b86-a963-df50d72b8e3f",
   "metadata": {},
   "outputs": [],
   "source": [
    "search_headers = {\n",
    "    'Accept': 'text/html,application/xhtml+xml,application/xml;q=0.9,image/avif,image/webp,image/apng,*/*;q=0.8,application/signed-exchange;v=b3;q=0.7',\n",
    "    'Accept-Encoding': 'gzip, deflate, br',\n",
    "    'Accept-Language': 'en-GB,en-US;q=0.9,en;q=0.8',\n",
    "    'Cache-Control': 'no-cache',\n",
    "    'Connection': 'keep-alive',\n",
    "    'Content-Length': '5811',\n",
    "    'Content-Type': 'application/x-www-form-urlencoded',\n",
    "    # 'Cookie': 'cookiesession1=678B288EB5CCF83226E13BAA870BED72; ASP.NET_SessionId=42f4q555nwusca55a3x5jxny',\n",
    "    'Host': 'cado.eservices.gov.nl.ca',\n",
    "    'Origin': 'https://cado.eservices.gov.nl.ca',\n",
    "    'Pragma': 'no-cache',\n",
    "    'Referer': 'https://cado.eservices.gov.nl.ca/CadoInternet/Company/CompanyNameNumberSearch.aspx',\n",
    "    'Sec-Ch-Ua': '\"Not A(Brand\";v=\"99\", \"Google Chrome\";v=\"121\", \"Chromium\";v=\"121\"',\n",
    "    'Sec-Ch-Ua-Mobile': '?0',\n",
    "    'Sec-Ch-Ua-Platform': '\"Windows\"',\n",
    "    'Sec-Fetch-Dest': 'document',\n",
    "    'Sec-Fetch-Mode': 'navigate',\n",
    "    'Sec-Fetch-Site': 'same-origin',\n",
    "    'Sec-Fetch-User': '?1',\n",
    "    'Upgrade-Insecure-Requests': '1',\n",
    "    'User-Agent': 'Mozilla/5.0 (Windows NT 10.0; Win64; x64) AppleWebKit/537.36 (KHTML, like Gecko) Chrome/121.0.0.0 Safari/537.36'\n",
    "}\n"
   ]
  },
  {
   "cell_type": "code",
   "execution_count": 43,
   "id": "de5d9bf5-496e-404e-b66d-5bd650d07bb5",
   "metadata": {},
   "outputs": [],
   "source": [
    "form_data = {\n",
    "    '__EVENTTARGET': '',\n",
    "    '__EVENTARGUMENT': '',\n",
    "    '__VIEWSTATE': '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',\n",
    "    'txtNameKeywords1': 'abc',\n",
    "    'txtNameKeywords2': '',\n",
    "    'txtCompanyNumber': '',\n",
    "    'btnSearch.x': '31',\n",
    "    'btnSearch.y': '12'\n",
    "}"
   ]
  },
  {
   "cell_type": "code",
   "execution_count": 44,
   "id": "6d77a5ac-0c61-4fe9-a279-e707443c920e",
   "metadata": {},
   "outputs": [
    {
     "data": {
      "text/plain": [
       "<Response [200]>"
      ]
     },
     "execution_count": 44,
     "metadata": {},
     "output_type": "execute_result"
    }
   ],
   "source": [
    "search_page = session.post(url=search_link,headers=search_headers,data=form_data)\n",
    "search_page"
   ]
  },
  {
   "cell_type": "code",
   "execution_count": 45,
   "id": "c7f6ec25-31ad-4ab1-a90b-7101fefc2de7",
   "metadata": {},
   "outputs": [],
   "source": [
    "with open(\"2_1.html\",'wb') as f:\n",
    "    f.write(search_page.content)"
   ]
  },
  {
   "cell_type": "code",
   "execution_count": 46,
   "id": "0b942509-c4f6-4ac0-831d-bba00e6fa86c",
   "metadata": {
    "scrolled": true
   },
   "outputs": [
    {
     "data": {
      "text/plain": [
       "'<form name=\"form\" method=\"post\" action=\"CompanyNameNumberSearch.aspx\" id=\"form\">\\r\\n<input type=\"hidden\" name=\"__EVENTTARGET\" value=\"\" />\\r\\n<input type=\"hidden\" name=\"__EVENTARGUMENT\" value=\"\" />\\r\\n<input type=\"hidden\" name=\"__VIEWSTATE\" value=\"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\" />\\r\\n\\r\\n<script language=\"javascript\" type=\"text/javascript\">\\r\\n<!--\\r\\n\\tfunction __doPostBack(eventTarget, eventArgument) {\\r\\n\\t\\tvar theform;\\r\\n\\t\\tif (window.navigator.appName.toLowerCase().indexOf(\"microsoft\") > -1) {\\r\\n\\t\\t\\ttheform = document.form;\\r\\n\\t\\t}\\r\\n\\t\\telse {\\r\\n\\t\\t\\ttheform = document.forms[\"form\"];\\r\\n\\t\\t}\\r\\n\\t\\ttheform.__EVENTTARGET.value = eventTarget.split(\"$\").join(\":\");\\r\\n\\t\\ttheform.__EVENTARGUMENT.value = eventArgument;\\r\\n\\t\\ttheform.submit();\\r\\n\\t}\\r\\n// -->\\r\\n</script>\\r\\n\\r\\n\\t\\r\\n<!DOCTYPE html>\\r\\n<!--[if lt IE 7 ]><html class=\"ie ie6\" lang=\"en\"> <![endif]-->  \\r\\n<!--[if IE 7 ]><![endif]--> <!--[if IE 8 ]><html class=\"ie ie8\" lang=\"en\"> <![endif]-->  \\r\\n<!--[if (gte IE 9)|!(IE)]><!-->\\r\\n\\t<html lang=\"en\">\\r\\n<!--<![endif]-->\\r\\n\\t<HEAD id=\"Head1\">\\r\\n\\t\\t<title>CADO - Companies and Deeds Online</title> \\r\\n\\t\\t\\r\\n\\t\\t\\t<!-- Basic Page Needs\\r\\n  ================================================== -->\\r\\n\\t\\t\\t<!--MPM Fix for IE11 compat prob -->\\r\\n\\t\\t\\t<meta http-equiv=\"X-UA-Compatible\" content=\"IE=EmulateIE9\">\\r\\n\\t\\t\\t<meta charset=\"utf-8\">\\r\\n\\t\\t\\t<!-- Do we really need this stuff? -->\\r\\n\\t\\t\\t<meta content=\"Microsoft Visual Studio .NET 7.1\" name=\"GENERATOR\">\\r\\n\\t\\t\\t<meta content=\"Visual Basic .NET 7.1\" name=\"CODE_LANGUAGE\">\\r\\n\\t\\t\\t<meta content=\"JavaScript\" name=\"vs_defaultClientScript\">\\r\\n\\t\\t\\t<meta content=\"http://schemas.microsoft.com/intellisense/ie5\" name=\"vs_targetSchema\">\\r\\n\\t\\t\\t<LINK href=\"/CadoInternet/Styles.css\" type=text/css rel=stylesheet>\\r\\n\\t\\t\\t<link href=\"/CadoInternet/TemplateCSS-JS/gnlscreen.css\" rel=\"stylesheet\" type=\"text/css\" media=\"screen\" >\\r\\n\\t\\t\\t<script>\\r\\n\\t\\t\\t//var childWindow = false;\\r\\n\\t\\t\\t\\r\\n\\t\\t\\tvar alreadySubmitted = false;\\r\\n\\t\\t\\t\\r\\n\\t\\t\\tfunction popUpWindow(sTarget, bModal, bCenter, iWidth, iHeight, bScroll){\\r\\n\\t\\t\\t\\t// Browser Detection\\r\\n\\t\\t\\t\\tvar IE4plus = (document.all) ? true : false;\\r\\n\\t\\t\\t\\t\\r\\n\\t\\t\\t\\t//Window size is max 640x480\\r\\n\\t\\t\\t\\t//if (iWidth > 640 || iWidth < 0) iWidth = 640;\\r\\n\\t\\t\\t\\t//if (iHeight > 480 || iHeight < 0) iHeight = 480;\\r\\n\\t\\t\\t\\r\\n\\t\\t\\t\\tif (IE4plus && bModal)\\r\\n\\t\\t\\t\\t{\\r\\n\\t\\t\\t\\t\\t// Window properties\\r\\n\\t\\t\\t\\t\\tvar sEdge = \\'Raised\\' //Sunken || Raised\\r\\n\\t\\t\\t\\t\\t\\r\\n\\t\\t\\t\\t\\tvar sFeatures=\\'dialogHeight: \\' + iHeight + \\'px; dialogWidth: \\' + iWidth + \\'px; dialogTop: \\' + iTop + \\'px; dialogLeft: \\' + iLeft + \\'px; edge: \\' + sEdge + \\'; center: \\' + bCenter + \\'; help: no; resizable: yes; status: no; scroll: yes;\\';\\r\\n\\t\\t\\t\\t\\t\\r\\n\\t\\t\\t\\t\\twindow.showModalDialog(sTarget, \\'\\', sFeatures);\\r\\n\\t\\t\\t\\t}\\r\\n\\t\\t\\t\\telse\\r\\n\\t\\t\\t\\t{\\r\\n\\t\\t\\t\\t\\t// Center window dimensions for non-IE4+\\r\\n\\t\\t\\t\\t\\tif (bCenter)\\r\\n\\t\\t\\t\\t\\t{\\r\\n\\t\\t\\t\\t\\t\\tvar iLeft = (screen.width - iWidth) / 2;\\r\\n\\t\\t\\t\\t\\t\\tvar iTop = (screen.height - iHeight) / 2;\\r\\n\\t\\t\\t\\t\\t}\\r\\n\\t\\t\\t\\t\\telse\\r\\n\\t\\t\\t\\t\\t{\\r\\n\\t\\t\\t\\t\\t\\tvar iLeft = \\'\\';\\r\\n\\t\\t\\t\\t\\t\\tvar iTop = \\'\\';\\r\\n\\t\\t\\t\\t\\t}\\r\\n\\t\\t\\t\\t\\t\\r\\n\\t\\t\\t\\t\\tscrollBars = \\',scrollbars=yes\\';\\r\\n\\t\\t\\t\\t\\t\\r\\n\\t\\t\\t\\t\\tif (bScroll == false){\\r\\n\\t\\t\\t\\t\\t\\tscrollBars = \\'\\';\\r\\n\\t\\t\\t\\t\\t}\\r\\n\\t\\t\\t\\t\\t\\t\\t\\t\\t\\t\\t\\t\\t\\r\\n\\t\\t\\t\\t\\tmsg=window.open(sTarget,\\'popUpWindow\\',\\'width=\\' + iWidth + \\',height=\\' + iHeight + \\',left=\\' + iLeft + \\',top=\\' + iTop + scrollBars + \\',status=no\\');\\r\\n\\t\\t\\t\\t\\t\\r\\n\\t\\t\\t\\t\\tif (!popUpWindow.opener) popUpWindow.opener = self;\\r\\n\\t\\t\\t\\t}\\r\\n\\t\\t\\t}\\r\\n\\t\\t\\t\\r\\n\\t\\t\\tfunction LibertyWindow(sTarget, bModal, bCenter, iWidth, iHeight, bScroll){\\r\\n\\t\\t\\t\\t// Browser Detection\\r\\n\\t\\t\\t\\tvar IE4plus = (document.all) ? true : false;\\r\\n\\t\\t\\t\\t\\r\\n\\t\\t\\t\\t//Window size is max 640x480\\r\\n\\t\\t\\t\\tif (iWidth > 780 || iWidth < 0) iWidth = 780;\\r\\n\\t\\t\\t\\tif (iHeight > 550 || iHeight < 0) iHeight = 550;\\r\\n\\t\\t\\t\\r\\n\\t\\t\\t\\tif (IE4plus && bModal)\\r\\n\\t\\t\\t\\t{\\r\\n\\t\\t\\t\\t\\t// Window properties\\r\\n\\t\\t\\t\\t\\tvar sEdge = \\'Raised\\' //Sunken || Raised\\r\\n\\t\\t\\t\\t\\t\\r\\n\\t\\t\\t\\t\\tvar sFeatures=\\'dialogHeight: \\' + iHeight + \\'px; dialogWidth: \\' + iWidth + \\'px; dialogTop: \\' + iTop + \\'px; dialogLeft: \\' + iLeft + \\'px; edge: \\' + sEdge + \\'; center: \\' + bCenter + \\'; help: no; resizable: yes; status: no; scroll: yes;\\';\\r\\n\\t\\t\\t\\t\\t\\r\\n\\t\\t\\t\\t\\twindow.showModalDialog(sTarget, \\'\\', sFeatures);\\r\\n\\t\\t\\t\\t}\\r\\n\\t\\t\\t\\telse\\r\\n\\t\\t\\t\\t{\\r\\n\\t\\t\\t\\t\\t// Center window dimensions for non-IE4+\\r\\n\\t\\t\\t\\t\\tif (bCenter)\\r\\n\\t\\t\\t\\t\\t{\\r\\n\\t\\t\\t\\t\\t\\tvar iLeft = (screen.width - iWidth) / 2;\\r\\n\\t\\t\\t\\t\\t\\tvar iTop = (screen.height - iHeight) / 2;\\r\\n\\t\\t\\t\\t\\t}\\r\\n\\t\\t\\t\\t\\telse\\r\\n\\t\\t\\t\\t\\t{\\r\\n\\t\\t\\t\\t\\t\\tvar iLeft = \\'\\';\\r\\n\\t\\t\\t\\t\\t\\tvar iTop = \\'\\';\\r\\n\\t\\t\\t\\t\\t}\\r\\n\\t\\t\\t\\t\\t\\r\\n\\t\\t\\t\\t\\tscrollBars = \\',scrollbars=yes\\';\\r\\n\\t\\t\\t\\t\\t\\r\\n\\t\\t\\t\\t\\tif (bScroll == false){\\r\\n\\t\\t\\t\\t\\t\\tscrollBars = \\'\\';\\r\\n\\t\\t\\t\\t\\t}\\r\\n\\t\\t\\t\\t\\t\\t\\t\\t\\t\\t\\t\\t\\t\\r\\n\\t\\t\\t\\t\\tmsg=window.open(sTarget,\\'popUpWindow\\',\\'width=\\' + iWidth + \\',height=\\' + iHeight + \\',left=\\' + iLeft + \\',top=\\' + iTop + scrollBars + \\',status=no\\' + \\',resizable=yes\\');\\r\\n\\t\\t\\t\\t\\t\\r\\n\\t\\t\\t\\t\\tif (!LibertyWindow.opener) LibertyWindow.opener = self;\\r\\n\\t\\t\\t\\t}\\r\\n\\t\\t\\t}\\r\\n\\t\\t\\t\\r\\n\\t\\t\\tfunction resetForm(){\\r\\n\\t\\t\\t\\tdocument.forms[0].reset();\\r\\n\\t\\t\\t}\\t\\r\\n\\t\\t\\t\\r\\n\\t\\t\\tfunction fnTrapKD(btn){\\r\\n\\t\\t\\t\\tif (document.all){\\r\\n\\t\\t\\t\\t\\tif (event.keyCode == 13){\\r\\n\\t\\t\\t\\t\\t\\tevent.returnValue=false;\\r\\n\\t\\t\\t\\t\\t\\tevent.cancel = true;\\r\\n\\t\\t\\t\\t\\t\\tbtn.click();\\r\\n\\t\\t\\t\\t\\t}\\r\\n\\t\\t\\t\\t}\\r\\n\\t\\t\\t}\\r\\n\\t\\r\\n\\t\\t\\tdocument.onkeydown = function(){\\r\\n\\t\\t\\t\\tif ((event.srcElement.type != \"textarea\") && (event.srcElement.type != \"image\")) {\\r\\n\\t\\t\\t\\t\\tif(window.event.keyCode==13) return false\\r\\n\\t\\t\\t\\t}\\r\\n\\t\\t\\t}\\r\\n\\r\\n\\t\\t\\r\\n\\t\\t\\tfunction disableEnterKey(){ \\r\\n\\t\\t\\xa0\\xa0\\xa0\\t\\tif (window.event.keyCode == 13){ \\r\\n\\t\\t\\xa0\\xa0\\xa0\\t\\treturn false;\\r\\n\\t\\t\\xa0\\xa0\\xa0\\t\\t}\\r\\n\\t\\t\\t} \\r\\n\\t\\t\\t\\r\\n\\t\\t\\t\\r\\n\\t\\t\\tfunction setFocusUC(controlName)\\r\\n\\t\\t\\t{\\r\\n\\t\\t\\t\\tvar control = document.getElementById(controlName);\\r\\n\\t\\t\\t\\t\\r\\n\\t\\t\\t\\tif( control != null )\\r\\n\\t\\t\\t\\t{\\r\\n\\t\\t\\t\\t\\tcontrol.focus();\\r\\n\\t\\t\\t\\t}\\r\\n\\t\\t\\t}\\r\\n\\t\\t\\t\\r\\n\\t\\t\\tfunction setFocus(controlName)\\r\\n\\t\\t\\t{\\r\\n\\t\\t\\t\\tvar control = document.getElementById(controlName);\\r\\n\\t\\t\\t\\t\\r\\n\\t\\t\\t\\tif( control != null )\\r\\n\\t\\t\\t\\t{\\r\\n\\t\\t\\t\\t\\tcontrol.focus();\\r\\n\\t\\t\\t\\t\\treturn true;\\r\\n\\t\\t\\t\\t}\\r\\n\\t\\t\\t\\telse\\r\\n\\t\\t\\t\\t{\\r\\n\\t\\t\\t\\t\\treturn false;\\r\\n\\t\\t\\t\\t}\\r\\n\\t\\t\\t}\\r\\n\\t\\t\\t\\r\\n\\t\\t\\tfunction removeAC(cNum){\\r\\n\\t\\t\\t\\taCompanies = document.forms[0].amalgamatedCompanies.value.split(\",\");\\r\\n\\t\\t\\t\\tdocument.forms[0].amalgamatedCompanies.value = \"\";\\r\\n\\t\\t\\r\\n\\t\\t\\t\\tfor (com in aCompanies){\\r\\n\\t\\t\\t\\t\\tif (aCompanies[com] != (\"z\" + cNum)){\\r\\n\\t\\t\\t\\t\\t\\tif (document.forms[0].amalgamatedCompanies.value == \"\"){\\r\\n\\t\\t\\t\\t\\t\\t\\tdocument.forms[0].amalgamatedCompanies.value = aCompanies[com];\\r\\n\\t\\t\\t\\t\\t\\t} else {\\r\\n\\t\\t\\t\\t\\t\\t\\tdocument.forms[0].amalgamatedCompanies.value += \",\" + aCompanies[com];\\r\\n\\t\\t\\t\\t\\t\\t}\\r\\n\\t\\t\\t\\t\\t}\\r\\n\\t\\t\\t\\t}\\r\\n\\t\\t\\r\\n\\t\\t\\t\\tdocument.forms[0].submit();\\r\\n\\t\\t\\t}\\r\\n\\t\\t\\t\\r\\n\\t\\t\\tfunction submitFormFirstTime(){\\r\\n\\t\\t\\t\\tvar returnSubmit = alreadySubmitted;\\r\\n\\t\\t\\t\\talreadySubmitted = true;\\r\\n\\t\\t\\t\\t\\r\\n\\t\\t\\t\\treturn !returnSubmit;\\r\\n\\t\\t\\t\\t\\r\\n\\t\\t\\t}\\r\\n\\t\\t\\t\\r\\n\\t\\t\\tfunction waitCursor()\\r\\n\\t\\t\\t{\\r\\n\\t\\t\\t\\tdocument.body.style.cursor = \"wait\";\\r\\n\\t\\t\\t}\\r\\n\\t\\t\\t\\r\\n\\t\\t\\tfunction defaultCursor()\\r\\n\\t\\t\\t{\\r\\n\\t\\t\\t\\tdocument.body.style.cursor = \"default\";\\r\\n\\t\\t\\t}\\r\\n\\t\\t\\r\\n\\t\\t\\t</script>\\r\\n\\t\\t\\t<script language=\"javascript\">\\r\\n<!--\\r\\n\\r\\nfunction HandleOnClose() {\\r\\n   if (event.clientY < 0 || event.clientX < 0) {\\r\\n\\tif (event.clientY < -90) {\\r\\n\\t  if (event.clientY > -115)\\r\\n\\t  {\\r\\n       \\r\\n       //var answer = confirm(\"\");\\r\\n       \\r\\n        //event.cancelBubble = !answer;\\r\\n        event.returnValue = \"Are you sure you want to close this window? \\\\nIf so, please ensure you logout correctly before closing the window. \\\\nFailing to logout correctly could result in your account getting  locked for 30 minutes\";\\r\\n       \\r\\n       \\r\\n      \\r\\n      }\\r\\n     }\\r\\n   }\\r\\n}\\r\\n\\r\\n//-->\\r\\n\\t\\t\\t</script>\\r\\n\\t\\t<!--<BODY onbeforeunload=\"HandleOnClose()\">-->\\r\\n\\t</HEAD>\\r\\n\\t<body>\\r\\n\\t\\t<div id=\"gnltop\">\\r\\n\\t\\t\\t<div id=\"gnltopnav\">\\r\\n\\t\\t\\t\\t<div id=\"gnllogo\"><span class=\"hidden\">Government of Newfoundland and Labrador</span></div>\\r\\n\\t\\t\\t\\t<ul id=\"Header_ulTopNavigation\">\\r\\n\\t\\t\\t\\t\\t<li>\\r\\n\\t\\t\\t\\t\\t\\t\\r\\n\\t\\t\\t\\t\\t<li>\\r\\n\\t\\t\\t\\t\\t\\t\\r\\n\\t\\t\\t\\t\\t<LI>\\r\\n\\t\\t\\t\\t\\t\\t&nbsp;</LI>\\r\\n\\t\\t\\t\\t</ul>\\r\\n\\t\\t\\t\\t\\r\\n\\t\\t\\t</div>\\r\\n\\t\\t</div>\\r\\n\\t\\t<div id=\"gnlhead\">\\r\\n\\t\\t\\t<div id=\"gnldeptitle\"><h2></h2>\\r\\n\\t\\t\\t</div>\\r\\n\\t\\t</div>\\r\\n\\t\\t<DIV id=\"gnlusers\">\\r\\n\\t\\t\\t<table id=\"Header_pnlNavigation\" cellpadding=\"0\" cellspacing=\"0\" border=\"0\" width=\"100%\"><tr><td>\\r\\n\\t\\r\\n\\t\\t\\t\\t<UL id=\"Header_ulNavigation\">\\r\\n\\t\\t\\t\\t\\t<LI>\\r\\n\\t\\t\\t\\t\\t\\t<a id=\"Header_lnkMain\" href=\"/CadoInternet/Main.aspx\">Main</a>\\r\\n\\t\\t\\t\\t\\t<LI>\\r\\n\\t\\t\\t\\t\\t\\t<a id=\"Header_lnkCompanies\" href=\"/CadoInternet/Company/CompanyMain.aspx\">Companies</a>\\r\\n\\t\\t\\t\\t\\t<LI>\\r\\n\\t\\t\\t\\t\\t\\t<a id=\"Header_lnkCondos\" href=\"/CadoInternet/Company/CondoMain.aspx\">Condominiums</a>\\r\\n\\t\\t\\t\\t\\t<LI>\\r\\n\\t\\t\\t\\t\\t\\t<a id=\"Header_lnkCoops\" href=\"/CadoInternet/Company/CoopMain.aspx\">Co-operatives</a>\\r\\n\\t\\t\\t\\t\\t<LI>\\r\\n\\t\\t\\t\\t\\t\\t<a id=\"Header_lnkDeeds\" href=\"/CadoInternet/Deeds/DeedsMain.aspx\">Deeds</a>\\r\\n\\t\\t\\t\\t\\t<LI>\\r\\n\\t\\t\\t\\t\\t\\t<a id=\"Header_lnkMechanics\" href=\"/CadoInternet/MechanicsLiens/MechanicsMain.aspx\">Mechanics Liens</a>\\r\\n\\t\\t\\t\\t\\t<LI class=\"lastitem\">\\r\\n\\t\\t\\t\\t\\t\\t<a id=\"Header_lnkLobbyists\" href=\"/CadoInternet/Lobbyist/Menu.aspx\">Lobbyists</a></LI></UL>\\t\\t\\t\\t\\r\\n\\t\\t\\t\\r\\n</td></tr></table>\\r\\n\\t\\t\\t<font style=\"FONT-SIZE:16pt;FONT-FAMILY:Arial;WHITE-SPACE:nowrap\">&nbsp; \\r\\n\\t\\t\\t\\t&nbsp;Companies and Deeds Online - CADO</font>\\r\\n\\t\\t</DIV>\\r\\n\\t\\t<br>\\r\\n\\t</body>\\r\\n</HTML>\\r\\n\\r\\n\\t<table cellSpacing=\"0\" cellPadding=\"0\" width=\"737\" align=\"center\" border=\"0\">\\r\\n\\t\\t<tr>\\r\\n\\t\\t\\t<td>&nbsp;</td>\\r\\n\\t\\t</tr>\\r\\n\\t\\t<tr class=\"bluebar\">\\r\\n\\t\\t\\t<td class=\"bluebartext\">&nbsp;Name/Number Search</td>\\r\\n\\t\\t</tr>\\r\\n\\t</table>\\r\\n\\t<table cellSpacing=\"0\" cellPadding=\"0\" width=\"737\" align=\"center\" border=\"0\">\\r\\n\\t\\t<tr class=\"row\">\\r\\n\\t\\t\\t<td vAlign=\"top\" align=\"left\">\\r\\n\\t\\t\\t\\t<table borderColor=\"#003c74\" cellSpacing=\"0\" cellPadding=\"10\" width=\"100%\" bgColor=\"#ffffff\"\\r\\n\\t\\t\\t\\t\\tborder=\"1\">\\r\\n\\t\\t\\t\\t\\t<tr>\\r\\n\\t\\t\\t\\t\\t\\t<td vAlign=\"middle\">\\r\\n\\t\\t\\t\\t\\t\\t\\t<table cellSpacing=\"0\" cellPadding=\"3\" width=\"100%\" border=\"0\">\\r\\n\\t\\t\\t\\t\\t\\t\\t\\t<tr class=\"ROW\">\\r\\n\\t\\t\\t\\t\\t\\t\\t\\t\\t<td colspan=\"3\"><A href=\"CompanyNameNumberSearchHints.aspx\">Review Search Hints</A></td>\\r\\n\\t\\t\\t\\t\\t\\t\\t\\t</tr>\\r\\n\\t\\t\\t\\t\\t\\t\\t\\t\\r\\n\\t\\t\\t\\t\\t\\t\\t\\t<tr class=\"ROW\">\\r\\n\\t\\t\\t\\t\\t\\t\\t\\t\\t<td colspan=\"3\"><br>\\r\\n\\t\\t\\t\\t\\t\\t\\t\\t\\t\\tEnter one or two complete or partial name keywords:</td>\\r\\n\\t\\t\\t\\t\\t\\t\\t\\t</tr>\\r\\n\\t\\t\\t\\t\\t\\t\\t\\t<tr class=\"ROW\">\\r\\n\\t\\t\\t\\t\\t\\t\\t\\t\\t<td width=\"120\"><b>Name Keywords:</b></td>\\r\\n\\t\\t\\t\\t\\t\\t\\t\\t\\t<td colSpan=\"2\"><input name=\"txtNameKeywords1\" type=\"text\" value=\"abc\" maxlength=\"30\" size=\"30\" id=\"txtNameKeywords1\" onkeydown=\"fnTrapKD(document.all.btnSearch)\" />&nbsp;&nbsp;and&nbsp;\\r\\n\\t\\t\\t\\t\\t\\t\\t\\t\\t\\t<input name=\"txtNameKeywords2\" type=\"text\" maxlength=\"30\" size=\"30\" id=\"txtNameKeywords2\" onkeydown=\"fnTrapKD(document.all.btnSearch)\" />\\r\\n\\t\\t\\t\\t\\t\\t\\t\\t\\t</td>\\r\\n\\t\\t\\t\\t\\t\\t\\t\\t</tr>\\r\\n\\t\\t\\t\\t\\t\\t\\t\\t<tr class=\"ROW\">\\r\\n\\t\\t\\t\\t\\t\\t\\t\\t\\t<td colspan=\"3\"><br>\\r\\n\\t\\t\\t\\t\\t\\t\\t\\t\\t\\t<font size=\"3\">OR</font> \\r\\n\\t\\t\\t\\t\\t\\t\\t\\t\\t\\t\\r\\n\\t\\t\\t\\t\\t\\t\\t\\t\\t\\t\\r\\n\\t\\t\\t\\t\\t\\t\\t\\t\\t</td>\\r\\n\\t\\t\\t\\t\\t\\t\\t\\t</tr>\\r\\n\\t\\t\\t\\t\\t\\t\\t\\t<tr class=\"row\">\\r\\n\\t\\t\\t\\t\\t\\t\\t\\t\\t<td><b>Number:</b></td>\\r\\n\\t\\t\\t\\t\\t\\t\\t\\t\\t<td colspan=\"2\">\\r\\n\\t\\t\\t\\t\\t\\t\\t\\t\\t\\t<input name=\"txtCompanyNumber\" type=\"text\" maxlength=\"8\" size=\"5\" id=\"txtCompanyNumber\" onkeydown=\"fnTrapKD(document.all.btnSearch)\" />\\r\\n\\t\\t\\t\\t\\t\\t\\t\\t\\t</td>\\r\\n\\t\\t\\t\\t\\t\\t\\t\\t</tr>\\r\\n\\t\\t\\t\\t\\t\\t\\t\\t<tr>\\r\\n\\t\\t\\t\\t\\t\\t\\t\\t\\t<td align=\"right\" colSpan=\"3\"><input type=\"image\" name=\"btnSearch\" id=\"btnSearch\" src=\"../Images/b_search.gif\" alt=\"\" border=\"0\" />&nbsp;&nbsp;<input type=\"image\" name=\"btnResetButton\" id=\"btnResetButton\" src=\"../Images/b_reset.gif\" alt=\"\" border=\"0\" /></td>\\r\\n\\t\\t\\t\\t\\t\\t\\t\\t</tr>\\r\\n\\t\\t\\t\\t\\t\\t\\t</table>\\r\\n\\t\\t\\t\\t\\t\\t</td>\\r\\n\\t\\t\\t\\t\\t</tr>\\r\\n\\t\\t\\t\\t</table>\\r\\n\\t\\t\\t</td>\\r\\n\\t\\t</tr>\\r\\n\\t</table>\\r\\n\\t<table id=\"tableSearchResults\" cellspacing=\"0\" cellpadding=\"0\" width=\"737\" align=\"center\" border=\"0\">\\r\\n\\t<tr>\\r\\n\\t\\t<td colspan=\"2\">&nbsp;</td>\\r\\n\\t</tr>\\r\\n\\t<tr class=\"bluebar\">\\r\\n\\t\\t<td class=\"bluebartext\" colspan=\"2\">&nbsp;Name/Number Search Results</td>\\r\\n\\t</tr>\\r\\n\\t<tr>\\r\\n\\t\\t<td colspan=\"2\">&nbsp;</td>\\r\\n\\t</tr>\\r\\n\\t<tr class=\"row\">\\r\\n\\t\\t<td valign=\"bottom\" align=\"left\">Records Found:\\r\\n\\t\\t\\t\\t<span id=\"lblRecordsFound\">34</span></td>\\r\\n\\t\\t<td valign=\"bottom\" align=\"right\">Viewing Records\\r\\n\\t\\t\\t\\t<span id=\"lblViewingRecords\">1-10</span></td>\\r\\n\\t</tr>\\r\\n\\t<tr>\\r\\n\\t\\t<td colspan=\"2\" height=\"5\"></td>\\r\\n\\t</tr>\\r\\n\\t<tr>\\r\\n\\t\\t<td colspan=\"2\">\\r\\n\\t\\t\\t\\t<table borderColor=\"#003c74\" cellSpacing=\"0\" cellPadding=\"0\" width=\"737\" align=\"center\"\\r\\n\\t\\t\\t\\t\\tborder=\"1\">\\r\\n\\t\\t\\t\\t\\t<tr>\\r\\n\\t\\t\\t\\t\\t\\t<td>\\r\\n\\t\\t\\t\\t\\t\\t\\t<table cellSpacing=\"0\" cellPadding=\"5\" width=\"100%\" align=\"center\" border=\"0\">\\r\\n\\t\\t\\t\\t\\t\\t\\t\\t\\r\\n\\t\\t\\t\\t\\t\\t\\t\\t\\t\\t<tr class=\"tablehead\">\\r\\n\\t\\t\\t\\t\\t\\t\\t\\t\\t\\t\\t<td width=\"430\">Name</td>\\r\\n\\t\\t\\t\\t\\t\\t\\t\\t\\t\\t\\t<td width=\"80\">Status</td>\\r\\n\\t\\t\\t\\t\\t\\t\\t\\t\\t\\t\\t<td width=\"50\">Number</td>\\r\\n\\t\\t\\t\\t\\t\\t\\t\\t\\t\\t\\t<td width=\"110\">Corporation Type</td>\\r\\n\\t\\t\\t\\t\\t\\t\\t\\t\\t\\t\\t<td nowrap width=\"67\">Date</td>\\r\\n\\t\\t\\t\\t\\t\\t\\t\\t\\t\\t</tr>\\r\\n\\t\\t\\t\\t\\t\\t\\t\\t\\t\\r\\n\\t\\t\\t\\t\\t\\t\\t\\t\\t\\t<tr class=\"row\">\\r\\n\\t\\t\\t\\t\\t\\t\\t\\t\\t\\t\\t<td width=\"430\">\\r\\n\\t\\t\\t\\t\\t\\t\\t\\t\\t\\t\\t\\t<a id=\"rptCompanyNameSearchResults__ctl1_lbtCompanyNumber\" href=\"javascript:__doPostBack(\\'rptCompanyNameSearchResults$_ctl1$lbtCompanyNumber\\',\\'\\')\">A B C Cabs Limited</a>\\r\\n\\t\\t\\t\\t\\t\\t\\t\\t\\t\\t\\t</td>\\r\\n\\t\\t\\t\\t\\t\\t\\t\\t\\t\\t\\t<td width=\"80\">\\r\\n\\t\\t\\t\\t\\t\\t\\t\\t\\t\\t\\t\\t<span id=\"rptCompanyNameSearchResults__ctl1_lblStatusItem\">Dissolved - Involuntary</span></td>\\r\\n\\t\\t\\t\\t\\t\\t\\t\\t\\t\\t\\t<td width=\"50\" class=\"CompanyNumberText\">23105</td>\\r\\n\\t\\t\\t\\t\\t\\t\\t\\t\\t\\t\\t<td width=\"110\">Company</td>\\r\\n\\t\\t\\t\\t\\t\\t\\t\\t\\t\\t\\t<td nowrap width=\"67\">\\r\\n\\t\\t\\t\\t\\t\\t\\t\\t\\t\\t\\t\\t<span id=\"rptCompanyNameSearchResults__ctl1_lblDisplayDateItem\">1988-06-24</span></td>\\r\\n\\t\\t\\t\\t\\t\\t\\t\\t\\t\\t</tr>\\r\\n\\t\\t\\t\\t\\t\\t\\t\\t\\t\\r\\n\\t\\t\\t\\t\\t\\t\\t\\t\\t\\t<tr class=\"rowalt\">\\r\\n\\t\\t\\t\\t\\t\\t\\t\\t\\t\\t\\t<td width=\"430\">\\r\\n\\t\\t\\t\\t\\t\\t\\t\\t\\t\\t\\t\\t<a id=\"rptCompanyNameSearchResults__ctl2_lbtCompanyNumber\" href=\"javascript:__doPostBack(\\'rptCompanyNameSearchResults$_ctl2$lbtCompanyNumber\\',\\'\\')\">A B C GROCERIES LTD.</a>\\r\\n\\t\\t\\t\\t\\t\\t\\t\\t\\t\\t\\t</td>\\r\\n\\t\\t\\t\\t\\t\\t\\t\\t\\t\\t\\t<td width=\"80\">\\r\\n\\t\\t\\t\\t\\t\\t\\t\\t\\t\\t\\t\\t<span id=\"rptCompanyNameSearchResults__ctl2_lblStatusItem\">Active</span></td>\\r\\n\\t\\t\\t\\t\\t\\t\\t\\t\\t\\t\\t<td width=\"50\" class=\"CompanyNumberText\">62087</td>\\r\\n\\t\\t\\t\\t\\t\\t\\t\\t\\t\\t\\t<td width=\"110\">Company</td>\\r\\n\\t\\t\\t\\t\\t\\t\\t\\t\\t\\t\\t<td nowrap width=\"67\">\\r\\n\\t\\t\\t\\t\\t\\t\\t\\t\\t\\t\\t\\t<span id=\"rptCompanyNameSearchResults__ctl2_lblDisplayDateItem\">2010-03-17</span></td>\\r\\n\\t\\t\\t\\t\\t\\t\\t\\t\\t\\t</tr>\\r\\n\\t\\t\\t\\t\\t\\t\\t\\t\\t\\r\\n\\t\\t\\t\\t\\t\\t\\t\\t\\t\\t<tr class=\"row\">\\r\\n\\t\\t\\t\\t\\t\\t\\t\\t\\t\\t\\t<td width=\"430\">\\r\\n\\t\\t\\t\\t\\t\\t\\t\\t\\t\\t\\t\\t<a id=\"rptCompanyNameSearchResults__ctl3_lbtCompanyNumber\" href=\"javascript:__doPostBack(\\'rptCompanyNameSearchResults$_ctl3$lbtCompanyNumber\\',\\'\\')\">A-B-C GENERAL MECHANIC INCORPORATED</a>\\r\\n\\t\\t\\t\\t\\t\\t\\t\\t\\t\\t\\t</td>\\r\\n\\t\\t\\t\\t\\t\\t\\t\\t\\t\\t\\t<td width=\"80\">\\r\\n\\t\\t\\t\\t\\t\\t\\t\\t\\t\\t\\t\\t<span id=\"rptCompanyNameSearchResults__ctl3_lblStatusItem\">Dissolved - Voluntary</span></td>\\r\\n\\t\\t\\t\\t\\t\\t\\t\\t\\t\\t\\t<td width=\"50\" class=\"CompanyNumberText\">23882</td>\\r\\n\\t\\t\\t\\t\\t\\t\\t\\t\\t\\t\\t<td width=\"110\">Company</td>\\r\\n\\t\\t\\t\\t\\t\\t\\t\\t\\t\\t\\t<td nowrap width=\"67\">\\r\\n\\t\\t\\t\\t\\t\\t\\t\\t\\t\\t\\t\\t<span id=\"rptCompanyNameSearchResults__ctl3_lblDisplayDateItem\">1988-11-28</span></td>\\r\\n\\t\\t\\t\\t\\t\\t\\t\\t\\t\\t</tr>\\r\\n\\t\\t\\t\\t\\t\\t\\t\\t\\t\\r\\n\\t\\t\\t\\t\\t\\t\\t\\t\\t\\t<tr class=\"rowalt\">\\r\\n\\t\\t\\t\\t\\t\\t\\t\\t\\t\\t\\t<td width=\"430\">\\r\\n\\t\\t\\t\\t\\t\\t\\t\\t\\t\\t\\t\\t<a id=\"rptCompanyNameSearchResults__ctl4_lbtCompanyNumber\" href=\"javascript:__doPostBack(\\'rptCompanyNameSearchResults$_ctl4$lbtCompanyNumber\\',\\'\\')\">A.B.C. CONSTRUCTION LIMITED</a>\\r\\n\\t\\t\\t\\t\\t\\t\\t\\t\\t\\t\\t</td>\\r\\n\\t\\t\\t\\t\\t\\t\\t\\t\\t\\t\\t<td width=\"80\">\\r\\n\\t\\t\\t\\t\\t\\t\\t\\t\\t\\t\\t\\t<span id=\"rptCompanyNameSearchResults__ctl4_lblStatusItem\">Dissolved (Prior To June 2004)</span></td>\\r\\n\\t\\t\\t\\t\\t\\t\\t\\t\\t\\t\\t<td width=\"50\" class=\"CompanyNumberText\">5321</td>\\r\\n\\t\\t\\t\\t\\t\\t\\t\\t\\t\\t\\t<td width=\"110\">Company</td>\\r\\n\\t\\t\\t\\t\\t\\t\\t\\t\\t\\t\\t<td nowrap width=\"67\">\\r\\n\\t\\t\\t\\t\\t\\t\\t\\t\\t\\t\\t\\t<span id=\"rptCompanyNameSearchResults__ctl4_lblDisplayDateItem\">1969-12-03</span></td>\\r\\n\\t\\t\\t\\t\\t\\t\\t\\t\\t\\t</tr>\\r\\n\\t\\t\\t\\t\\t\\t\\t\\t\\t\\r\\n\\t\\t\\t\\t\\t\\t\\t\\t\\t\\t<tr class=\"row\">\\r\\n\\t\\t\\t\\t\\t\\t\\t\\t\\t\\t\\t<td width=\"430\">\\r\\n\\t\\t\\t\\t\\t\\t\\t\\t\\t\\t\\t\\t<a id=\"rptCompanyNameSearchResults__ctl5_lbtCompanyNumber\" href=\"javascript:__doPostBack(\\'rptCompanyNameSearchResults$_ctl5$lbtCompanyNumber\\',\\'\\')\">A.B.C. RECREATION LTD.</a>\\r\\n\\t\\t\\t\\t\\t\\t\\t\\t\\t\\t\\t</td>\\r\\n\\t\\t\\t\\t\\t\\t\\t\\t\\t\\t\\t<td width=\"80\">\\r\\n\\t\\t\\t\\t\\t\\t\\t\\t\\t\\t\\t\\t<span id=\"rptCompanyNameSearchResults__ctl5_lblStatusItem\">Active</span></td>\\r\\n\\t\\t\\t\\t\\t\\t\\t\\t\\t\\t\\t<td width=\"50\" class=\"CompanyNumberText\">70235</td>\\r\\n\\t\\t\\t\\t\\t\\t\\t\\t\\t\\t\\t<td width=\"110\">Company</td>\\r\\n\\t\\t\\t\\t\\t\\t\\t\\t\\t\\t\\t<td nowrap width=\"67\">\\r\\n\\t\\t\\t\\t\\t\\t\\t\\t\\t\\t\\t\\t<span id=\"rptCompanyNameSearchResults__ctl5_lblDisplayDateItem\">2013-05-27</span></td>\\r\\n\\t\\t\\t\\t\\t\\t\\t\\t\\t\\t</tr>\\r\\n\\t\\t\\t\\t\\t\\t\\t\\t\\t\\r\\n\\t\\t\\t\\t\\t\\t\\t\\t\\t\\t<tr class=\"rowalt\">\\r\\n\\t\\t\\t\\t\\t\\t\\t\\t\\t\\t\\t<td width=\"430\">\\r\\n\\t\\t\\t\\t\\t\\t\\t\\t\\t\\t\\t\\t<a id=\"rptCompanyNameSearchResults__ctl6_lbtCompanyNumber\" href=\"javascript:__doPostBack(\\'rptCompanyNameSearchResults$_ctl6$lbtCompanyNumber\\',\\'\\')\">A.B.C. TAXICABS, LIMITED</a>\\r\\n\\t\\t\\t\\t\\t\\t\\t\\t\\t\\t\\t</td>\\r\\n\\t\\t\\t\\t\\t\\t\\t\\t\\t\\t\\t<td width=\"80\">\\r\\n\\t\\t\\t\\t\\t\\t\\t\\t\\t\\t\\t\\t<span id=\"rptCompanyNameSearchResults__ctl6_lblStatusItem\">Dissolved (Prior To June 2004)</span></td>\\r\\n\\t\\t\\t\\t\\t\\t\\t\\t\\t\\t\\t<td width=\"50\" class=\"CompanyNumberText\">2960</td>\\r\\n\\t\\t\\t\\t\\t\\t\\t\\t\\t\\t\\t<td width=\"110\">Company</td>\\r\\n\\t\\t\\t\\t\\t\\t\\t\\t\\t\\t\\t<td nowrap width=\"67\">\\r\\n\\t\\t\\t\\t\\t\\t\\t\\t\\t\\t\\t\\t<span id=\"rptCompanyNameSearchResults__ctl6_lblDisplayDateItem\">1958-06-11</span></td>\\r\\n\\t\\t\\t\\t\\t\\t\\t\\t\\t\\t</tr>\\r\\n\\t\\t\\t\\t\\t\\t\\t\\t\\t\\r\\n\\t\\t\\t\\t\\t\\t\\t\\t\\t\\t<tr class=\"row\">\\r\\n\\t\\t\\t\\t\\t\\t\\t\\t\\t\\t\\t<td width=\"430\">\\r\\n\\t\\t\\t\\t\\t\\t\\t\\t\\t\\t\\t\\t<a id=\"rptCompanyNameSearchResults__ctl7_lbtCompanyNumber\" href=\"javascript:__doPostBack(\\'rptCompanyNameSearchResults$_ctl7$lbtCompanyNumber\\',\\'\\')\">ABC BUILDERS LIMITED</a>\\r\\n\\t\\t\\t\\t\\t\\t\\t\\t\\t\\t\\t</td>\\r\\n\\t\\t\\t\\t\\t\\t\\t\\t\\t\\t\\t<td width=\"80\">\\r\\n\\t\\t\\t\\t\\t\\t\\t\\t\\t\\t\\t\\t<span id=\"rptCompanyNameSearchResults__ctl7_lblStatusItem\">Dissolved (Prior To June 2004)</span></td>\\r\\n\\t\\t\\t\\t\\t\\t\\t\\t\\t\\t\\t<td width=\"50\" class=\"CompanyNumberText\">29841</td>\\r\\n\\t\\t\\t\\t\\t\\t\\t\\t\\t\\t\\t<td width=\"110\">Company</td>\\r\\n\\t\\t\\t\\t\\t\\t\\t\\t\\t\\t\\t<td nowrap width=\"67\">\\r\\n\\t\\t\\t\\t\\t\\t\\t\\t\\t\\t\\t\\t<span id=\"rptCompanyNameSearchResults__ctl7_lblDisplayDateItem\">1992-03-20</span></td>\\r\\n\\t\\t\\t\\t\\t\\t\\t\\t\\t\\t</tr>\\r\\n\\t\\t\\t\\t\\t\\t\\t\\t\\t\\r\\n\\t\\t\\t\\t\\t\\t\\t\\t\\t\\t<tr class=\"rowalt\">\\r\\n\\t\\t\\t\\t\\t\\t\\t\\t\\t\\t\\t<td width=\"430\">\\r\\n\\t\\t\\t\\t\\t\\t\\t\\t\\t\\t\\t\\t<a id=\"rptCompanyNameSearchResults__ctl8_lbtCompanyNumber\" href=\"javascript:__doPostBack(\\'rptCompanyNameSearchResults$_ctl8$lbtCompanyNumber\\',\\'\\')\">ABC CABS (1991) LIMITED</a>\\r\\n\\t\\t\\t\\t\\t\\t\\t\\t\\t\\t\\t</td>\\r\\n\\t\\t\\t\\t\\t\\t\\t\\t\\t\\t\\t<td width=\"80\">\\r\\n\\t\\t\\t\\t\\t\\t\\t\\t\\t\\t\\t\\t<span id=\"rptCompanyNameSearchResults__ctl8_lblStatusItem\">Dissolved - Involuntary</span></td>\\r\\n\\t\\t\\t\\t\\t\\t\\t\\t\\t\\t\\t<td width=\"50\" class=\"CompanyNumberText\">27978</td>\\r\\n\\t\\t\\t\\t\\t\\t\\t\\t\\t\\t\\t<td width=\"110\">Company</td>\\r\\n\\t\\t\\t\\t\\t\\t\\t\\t\\t\\t\\t<td nowrap width=\"67\">\\r\\n\\t\\t\\t\\t\\t\\t\\t\\t\\t\\t\\t\\t<span id=\"rptCompanyNameSearchResults__ctl8_lblDisplayDateItem\">1991-03-11</span></td>\\r\\n\\t\\t\\t\\t\\t\\t\\t\\t\\t\\t</tr>\\r\\n\\t\\t\\t\\t\\t\\t\\t\\t\\t\\r\\n\\t\\t\\t\\t\\t\\t\\t\\t\\t\\t<tr class=\"row\">\\r\\n\\t\\t\\t\\t\\t\\t\\t\\t\\t\\t\\t<td width=\"430\">\\r\\n\\t\\t\\t\\t\\t\\t\\t\\t\\t\\t\\t\\t<a id=\"rptCompanyNameSearchResults__ctl9_lbtCompanyNumber\" href=\"javascript:__doPostBack(\\'rptCompanyNameSearchResults$_ctl9$lbtCompanyNumber\\',\\'\\')\">ABC CLEANING SERVICES INC.</a>\\r\\n\\t\\t\\t\\t\\t\\t\\t\\t\\t\\t\\t</td>\\r\\n\\t\\t\\t\\t\\t\\t\\t\\t\\t\\t\\t<td width=\"80\">\\r\\n\\t\\t\\t\\t\\t\\t\\t\\t\\t\\t\\t\\t<span id=\"rptCompanyNameSearchResults__ctl9_lblStatusItem\">Active</span></td>\\r\\n\\t\\t\\t\\t\\t\\t\\t\\t\\t\\t\\t<td width=\"50\" class=\"CompanyNumberText\">92638</td>\\r\\n\\t\\t\\t\\t\\t\\t\\t\\t\\t\\t\\t<td width=\"110\">Company</td>\\r\\n\\t\\t\\t\\t\\t\\t\\t\\t\\t\\t\\t<td nowrap width=\"67\">\\r\\n\\t\\t\\t\\t\\t\\t\\t\\t\\t\\t\\t\\t<span id=\"rptCompanyNameSearchResults__ctl9_lblDisplayDateItem\">2023-04-28</span></td>\\r\\n\\t\\t\\t\\t\\t\\t\\t\\t\\t\\t</tr>\\r\\n\\t\\t\\t\\t\\t\\t\\t\\t\\t\\r\\n\\t\\t\\t\\t\\t\\t\\t\\t\\t\\t<tr class=\"rowalt\">\\r\\n\\t\\t\\t\\t\\t\\t\\t\\t\\t\\t\\t<td width=\"430\">\\r\\n\\t\\t\\t\\t\\t\\t\\t\\t\\t\\t\\t\\t<a id=\"rptCompanyNameSearchResults__ctl10_lbtCompanyNumber\" href=\"javascript:__doPostBack(\\'rptCompanyNameSearchResults$_ctl10$lbtCompanyNumber\\',\\'\\')\">ABC CREDIT BUREAU COLLECTIONS LIMITED</a>\\r\\n\\t\\t\\t\\t\\t\\t\\t\\t\\t\\t\\t</td>\\r\\n\\t\\t\\t\\t\\t\\t\\t\\t\\t\\t\\t<td width=\"80\">\\r\\n\\t\\t\\t\\t\\t\\t\\t\\t\\t\\t\\t\\t<span id=\"rptCompanyNameSearchResults__ctl10_lblStatusItem\">Cancelled - Involuntary</span></td>\\r\\n\\t\\t\\t\\t\\t\\t\\t\\t\\t\\t\\t<td width=\"50\" class=\"CompanyNumberText\">49863</td>\\r\\n\\t\\t\\t\\t\\t\\t\\t\\t\\t\\t\\t<td width=\"110\">Company</td>\\r\\n\\t\\t\\t\\t\\t\\t\\t\\t\\t\\t\\t<td nowrap width=\"67\">\\r\\n\\t\\t\\t\\t\\t\\t\\t\\t\\t\\t\\t\\t<span id=\"rptCompanyNameSearchResults__ctl10_lblDisplayDateItem\">2004-06-30</span></td>\\r\\n\\t\\t\\t\\t\\t\\t\\t\\t\\t\\t</tr>\\r\\n\\t\\t\\t\\t\\t\\t\\t\\t\\t\\r\\n\\t\\t\\t\\t\\t\\t\\t\\t<tr id=\"trNavigation\" class=\"tablefoot\">\\r\\n\\t\\t\\t<td align=\"center\" colspan=\"3\"><a id=\"lbtFirst\" href=\"javascript:__doPostBack(\\'lbtFirst\\',\\'\\')\">&lt;&lt; First</a>&nbsp;\\r\\n\\t\\t\\t\\t\\t\\t\\t\\t\\t\\t<a id=\"lbtPrevious\" href=\"javascript:__doPostBack(\\'lbtPrevious\\',\\'\\')\">&lt; Previous</a>&nbsp;\\r\\n\\t\\t\\t\\t\\t\\t\\t\\t\\t\\t<a id=\"lbtNext\" href=\"javascript:__doPostBack(\\'lbtNext\\',\\'\\')\">Next &gt;</a>&nbsp;\\r\\n\\t\\t\\t\\t\\t\\t\\t\\t\\t\\t<a id=\"lbtLast\" href=\"javascript:__doPostBack(\\'lbtLast\\',\\'\\')\">Last &gt;&gt;</a></td>\\r\\n\\t\\t\\t<td align=\"right\" colspan=\"2\"><a id=\"hylViewAllRecords\" href=\"CompanySearchViewAll.aspx\"><img src=\"../Images/b_view_all_recs.gif\" alt=\"HyperLink\" border=\"0\" /></a></td>\\r\\n\\t\\t</tr>\\r\\n\\t\\t\\r\\n\\t\\t\\t\\t\\t\\t\\t</table>\\r\\n\\t\\t\\t\\t\\t\\t</td>\\r\\n\\t\\t\\t\\t\\t</tr>\\r\\n\\t\\t\\t\\t</table>\\r\\n\\t\\t\\t</td>\\r\\n\\t</tr>\\r\\n</table>\\r\\n\\r\\n\\t<span id=\"lblErrorMessage\"></span>\\r\\n<!-- START OF FOOTER -->\\r\\n<br>\\r\\n<div id=\"gnlfoot\">\\r\\n\\r\\n\\t<ul id=\"gnlfootlinks\">\\r\\n\\t<li><a href=\"/CadoInternet/Disclaimer.aspx\">Disclaimer/Privacy</a></li>\\r\\n\\t<li><a href=\"/CadoInternet/Main.aspx\">Home</a></li>\\r\\n\\t<!--<li><a href=\"http://www.gs.gov.nl.ca/cca/cr/locations.stm\">Contact</a></li>-->\\r\\n\\t<!--<li><a href=\"http://www.gs.gov.nl.ca/department/contact.html#locations\">Contact</a></li>-->\\r\\n\\t<li><a href=\"https://www.servicenl.gov.nl.ca/department/registries_contact.html\" target=\"_blank\">Contact</a></li>\\r\\n\\t<!--<li><a href=\"http://www.gov.nl.ca\">Government Home </a></li>-->\\r\\n\\t</ul>\\r\\n\\r\\n\\t<div id=\"gnlcopyright\">\\r\\n\\t\\tThis page and all contents are copyright, Government of Newfoundland and Labrador, all rights reserved.\\r\\n\\t</div>\\r\\n\\r\\n</div><!--for gnlfoot-->\\r\\n\\r\\n\\r\\n</body>\\r\\n\\r\\n</html>\\r\\n</form>\\r\\n'"
      ]
     },
     "execution_count": 46,
     "metadata": {},
     "output_type": "execute_result"
    }
   ],
   "source": [
    "search_page.text"
   ]
  },
  {
   "cell_type": "code",
   "execution_count": null,
   "id": "4ad5fd6d-654a-46e6-bc04-2a91cfd34e57",
   "metadata": {},
   "outputs": [],
   "source": []
  },
  {
   "cell_type": "code",
   "execution_count": null,
   "id": "25864769-fe9d-4726-bb9b-3a3a84fa4ef3",
   "metadata": {},
   "outputs": [],
   "source": []
  },
  {
   "cell_type": "code",
   "execution_count": null,
   "id": "de1bb3af-5004-412b-80c6-4d95ee042755",
   "metadata": {},
   "outputs": [],
   "source": []
  },
  {
   "cell_type": "code",
   "execution_count": 47,
   "id": "9a7cd015-56a1-471e-a89e-ca543cec83c2",
   "metadata": {},
   "outputs": [],
   "source": [
    "from bs4 import BeautifulSoup\n",
    "\n",
    "soup = BeautifulSoup(search_page.text, 'html.parser')\n",
    "\n",
    "viewstate_value = soup.find('input', {'name': '__VIEWSTATE'})['value']"
   ]
  },
  {
   "cell_type": "code",
   "execution_count": null,
   "id": "9f1147e9-5351-406e-8896-5bc88e254e08",
   "metadata": {},
   "outputs": [],
   "source": []
  },
  {
   "cell_type": "code",
   "execution_count": null,
   "id": "69d98785-2ac4-4c11-aae0-94ed94bbb2e5",
   "metadata": {},
   "outputs": [],
   "source": []
  },
  {
   "cell_type": "code",
   "execution_count": 48,
   "id": "b55b7fc8-33ce-4e7d-ab3b-f2d17bf28814",
   "metadata": {},
   "outputs": [],
   "source": [
    "all_res_payload = {\n",
    "    '__EVENTTARGET': '',\n",
    "    '__EVENTARGUMENT': '',\n",
    "    '__VIEWSTATE': viewstate_value,\n",
    "    'txtNameKeywords1': 'abc',\n",
    "    'txtNameKeywords2': '',\n",
    "    'txtCompanyNumber': '',\n",
    "    'btnSearch.x': '31',\n",
    "    'btnSearch.y': '12'\n",
    "}"
   ]
  },
  {
   "cell_type": "code",
   "execution_count": 49,
   "id": "b0b861cb-6670-4c4a-8905-025deb5f46bc",
   "metadata": {},
   "outputs": [],
   "source": [
    "all_res_link = \"https://cado.eservices.gov.nl.ca/CadoInternet/Company/CompanySearchViewAll.aspx\""
   ]
  },
  {
   "cell_type": "code",
   "execution_count": 50,
   "id": "34c7d91c-96ec-405a-a899-f5be68c896ed",
   "metadata": {},
   "outputs": [],
   "source": [
    "all_res_headers = {\n",
    "    'Accept': 'text/html,application/xhtml+xml,application/xml;q=0.9,image/avif,image/webp,image/apng,*/*;q=0.8,application/signed-exchange;v=b3;q=0.7',\n",
    "    'Accept-Encoding': 'gzip, deflate, br',\n",
    "    'Accept-Language': 'en-GB,en-US;q=0.9,en;q=0.8',\n",
    "    'Cache-Control': 'no-cache',\n",
    "    'Connection': 'keep-alive',\n",
    "    # 'Cookie': 'cookiesession1=678B288EB5CCF83226E13BAA870BED72; ASP.NET_SessionId=42f4q555nwusca55a3x5jxny',\n",
    "    'Host': 'cado.eservices.gov.nl.ca',\n",
    "    'Pragma': 'no-cache',\n",
    "    'Referer': 'https://cado.eservices.gov.nl.ca/CadoInternet/Company/CompanyNameNumberSearch.aspx',\n",
    "    'Sec-Ch-Ua': '\"Not A(Brand\";v=\"99\", \"Google Chrome\";v=\"121\", \"Chromium\";v=\"121\"',\n",
    "    'Sec-Ch-Ua-Mobile': '?0',\n",
    "    'Sec-Ch-Ua-Platform': '\"Windows\"',\n",
    "    'Sec-Fetch-Dest': 'document',\n",
    "    'Sec-Fetch-Mode': 'navigate',\n",
    "    'Sec-Fetch-Site': 'same-origin',\n",
    "    'Sec-Fetch-User': '?1',\n",
    "    'Upgrade-Insecure-Requests': '1',\n",
    "    'User-Agent': 'Mozilla/5.0 (Windows NT 10.0; Win64; x64) AppleWebKit/537.36 (KHTML, like Gecko) Chrome/121.0.0.0 Safari/537.36'\n",
    "}\n"
   ]
  },
  {
   "cell_type": "code",
   "execution_count": 51,
   "id": "f7efe664-a80e-422e-9342-0a3b9cf0f705",
   "metadata": {},
   "outputs": [
    {
     "data": {
      "text/plain": [
       "<Response [200]>"
      ]
     },
     "execution_count": 51,
     "metadata": {},
     "output_type": "execute_result"
    }
   ],
   "source": [
    "all_res_data = session.get(all_res_link,headers=all_res_headers,data=all_res_payload)\n",
    "all_res_data"
   ]
  },
  {
   "cell_type": "code",
   "execution_count": 52,
   "id": "2bf0a5e9-9d41-4e02-b538-9be78d5f22dc",
   "metadata": {},
   "outputs": [],
   "source": [
    "with open(\"3.html\",'wb') as f:\n",
    "    f.write(all_res_data.content)"
   ]
  },
  {
   "cell_type": "code",
   "execution_count": null,
   "id": "12c101f3-4c93-4235-a06e-328b168b6a06",
   "metadata": {},
   "outputs": [],
   "source": []
  },
  {
   "cell_type": "code",
   "execution_count": null,
   "id": "34fc83f9-567a-4696-9fe5-5a0cd2dcce2d",
   "metadata": {},
   "outputs": [],
   "source": []
  },
  {
   "cell_type": "code",
   "execution_count": null,
   "id": "8984c84e-f29d-4228-9952-17cbecf95c1a",
   "metadata": {},
   "outputs": [],
   "source": []
  },
  {
   "cell_type": "code",
   "execution_count": null,
   "id": "db024d0f-1442-463f-bac3-3f5ac6ad310d",
   "metadata": {},
   "outputs": [],
   "source": []
  },
  {
   "cell_type": "code",
   "execution_count": 54,
   "id": "bfd0011d-3e3e-4af2-946e-e62eb6e106eb",
   "metadata": {},
   "outputs": [
    {
     "name": "stderr",
     "output_type": "stream",
     "text": [
      "C:\\Users\\Asus\\AppData\\Local\\Temp\\ipykernel_14976\\4080736814.py:1: DeprecationWarning: \n",
      "Pyarrow will become a required dependency of pandas in the next major release of pandas (pandas 3.0),\n",
      "(to allow more performant data types, such as the Arrow string type, and better interoperability with other libraries)\n",
      "but was not found to be installed on your system.\n",
      "If this would cause problems for you,\n",
      "please provide us feedback at https://github.com/pandas-dev/pandas/issues/54466\n",
      "        \n",
      "  import pandas as pd\n"
     ]
    }
   ],
   "source": [
    "import pandas as pd"
   ]
  },
  {
   "cell_type": "code",
   "execution_count": 56,
   "id": "e9b3275e-f5a8-4f49-98ce-c689b9bd1875",
   "metadata": {},
   "outputs": [
    {
     "name": "stderr",
     "output_type": "stream",
     "text": [
      "C:\\Users\\Asus\\AppData\\Local\\Temp\\ipykernel_14976\\1630486516.py:1: FutureWarning: Passing literal html to 'read_html' is deprecated and will be removed in a future version. To read from a literal string, wrap it in a 'StringIO' object.\n",
      "  df = pd.read_html(all_res_data.text)\n"
     ]
    }
   ],
   "source": [
    "df = pd.read_html(all_res_data.text)"
   ]
  },
  {
   "cell_type": "code",
   "execution_count": 57,
   "id": "a0ad4673-357d-4820-984f-8b001c1ce477",
   "metadata": {},
   "outputs": [
    {
     "data": {
      "text/plain": [
       "5"
      ]
     },
     "execution_count": 57,
     "metadata": {},
     "output_type": "execute_result"
    }
   ],
   "source": [
    "len(df)"
   ]
  },
  {
   "cell_type": "code",
   "execution_count": 62,
   "id": "cd316970-3244-454e-9781-bced65f6d989",
   "metadata": {},
   "outputs": [
    {
     "data": {
      "text/html": [
       "<div>\n",
       "<style scoped>\n",
       "    .dataframe tbody tr th:only-of-type {\n",
       "        vertical-align: middle;\n",
       "    }\n",
       "\n",
       "    .dataframe tbody tr th {\n",
       "        vertical-align: top;\n",
       "    }\n",
       "\n",
       "    .dataframe thead th {\n",
       "        text-align: right;\n",
       "    }\n",
       "</style>\n",
       "<table border=\"1\" class=\"dataframe\">\n",
       "  <thead>\n",
       "    <tr style=\"text-align: right;\">\n",
       "      <th></th>\n",
       "      <th>0</th>\n",
       "      <th>1</th>\n",
       "      <th>2</th>\n",
       "      <th>3</th>\n",
       "      <th>4</th>\n",
       "      <th>5</th>\n",
       "    </tr>\n",
       "  </thead>\n",
       "  <tbody>\n",
       "    <tr>\n",
       "      <th>0</th>\n",
       "      <td>NaN</td>\n",
       "      <td>Name</td>\n",
       "      <td>Status</td>\n",
       "      <td>Number</td>\n",
       "      <td>Corporation Type</td>\n",
       "      <td>Date</td>\n",
       "    </tr>\n",
       "    <tr>\n",
       "      <th>1</th>\n",
       "      <td>1.0</td>\n",
       "      <td>A B C Cabs Limited</td>\n",
       "      <td>Dissolved - Involuntary</td>\n",
       "      <td>23105</td>\n",
       "      <td>Company</td>\n",
       "      <td>1988-06-24</td>\n",
       "    </tr>\n",
       "    <tr>\n",
       "      <th>2</th>\n",
       "      <td>2.0</td>\n",
       "      <td>A B C GROCERIES LTD.</td>\n",
       "      <td>Active</td>\n",
       "      <td>62087</td>\n",
       "      <td>Company</td>\n",
       "      <td>2010-03-17</td>\n",
       "    </tr>\n",
       "    <tr>\n",
       "      <th>3</th>\n",
       "      <td>3.0</td>\n",
       "      <td>A-B-C GENERAL MECHANIC INCORPORATED</td>\n",
       "      <td>Dissolved - Voluntary</td>\n",
       "      <td>23882</td>\n",
       "      <td>Company</td>\n",
       "      <td>1988-11-28</td>\n",
       "    </tr>\n",
       "    <tr>\n",
       "      <th>4</th>\n",
       "      <td>4.0</td>\n",
       "      <td>A.B.C. CONSTRUCTION LIMITED</td>\n",
       "      <td>Dissolved (Prior To June 2004)</td>\n",
       "      <td>5321</td>\n",
       "      <td>Company</td>\n",
       "      <td>1969-12-03</td>\n",
       "    </tr>\n",
       "    <tr>\n",
       "      <th>5</th>\n",
       "      <td>5.0</td>\n",
       "      <td>A.B.C. RECREATION LTD.</td>\n",
       "      <td>Active</td>\n",
       "      <td>70235</td>\n",
       "      <td>Company</td>\n",
       "      <td>2013-05-27</td>\n",
       "    </tr>\n",
       "    <tr>\n",
       "      <th>6</th>\n",
       "      <td>6.0</td>\n",
       "      <td>A.B.C. TAXICABS, LIMITED</td>\n",
       "      <td>Dissolved (Prior To June 2004)</td>\n",
       "      <td>2960</td>\n",
       "      <td>Company</td>\n",
       "      <td>1958-06-11</td>\n",
       "    </tr>\n",
       "    <tr>\n",
       "      <th>7</th>\n",
       "      <td>7.0</td>\n",
       "      <td>ABC BUILDERS LIMITED</td>\n",
       "      <td>Dissolved (Prior To June 2004)</td>\n",
       "      <td>29841</td>\n",
       "      <td>Company</td>\n",
       "      <td>1992-03-20</td>\n",
       "    </tr>\n",
       "    <tr>\n",
       "      <th>8</th>\n",
       "      <td>8.0</td>\n",
       "      <td>ABC CABS (1991) LIMITED</td>\n",
       "      <td>Dissolved - Involuntary</td>\n",
       "      <td>27978</td>\n",
       "      <td>Company</td>\n",
       "      <td>1991-03-11</td>\n",
       "    </tr>\n",
       "    <tr>\n",
       "      <th>9</th>\n",
       "      <td>9.0</td>\n",
       "      <td>ABC CLEANING SERVICES INC.</td>\n",
       "      <td>Active</td>\n",
       "      <td>92638</td>\n",
       "      <td>Company</td>\n",
       "      <td>2023-04-28</td>\n",
       "    </tr>\n",
       "    <tr>\n",
       "      <th>10</th>\n",
       "      <td>10.0</td>\n",
       "      <td>ABC CREDIT BUREAU COLLECTIONS LIMITED</td>\n",
       "      <td>Cancelled - Involuntary</td>\n",
       "      <td>49863</td>\n",
       "      <td>Company</td>\n",
       "      <td>2004-06-30</td>\n",
       "    </tr>\n",
       "    <tr>\n",
       "      <th>11</th>\n",
       "      <td>11.0</td>\n",
       "      <td>ABC Daycare Ltd.</td>\n",
       "      <td>Active</td>\n",
       "      <td>93562</td>\n",
       "      <td>Company</td>\n",
       "      <td>2023-09-15</td>\n",
       "    </tr>\n",
       "    <tr>\n",
       "      <th>12</th>\n",
       "      <td>12.0</td>\n",
       "      <td>ABC Enterprises Limited</td>\n",
       "      <td>Dissolved (Prior To June 2004)</td>\n",
       "      <td>9404</td>\n",
       "      <td>Company</td>\n",
       "      <td>1976-10-29</td>\n",
       "    </tr>\n",
       "    <tr>\n",
       "      <th>13</th>\n",
       "      <td>13.0</td>\n",
       "      <td>ABC Fisheries Ltd</td>\n",
       "      <td>Dissolved - Involuntary</td>\n",
       "      <td>38681</td>\n",
       "      <td>Company</td>\n",
       "      <td>1997-06-19</td>\n",
       "    </tr>\n",
       "    <tr>\n",
       "      <th>14</th>\n",
       "      <td>14.0</td>\n",
       "      <td>ABC HOLDINGS INC.</td>\n",
       "      <td>Dissolved - Involuntary</td>\n",
       "      <td>37505</td>\n",
       "      <td>Company</td>\n",
       "      <td>1996-11-01</td>\n",
       "    </tr>\n",
       "    <tr>\n",
       "      <th>15</th>\n",
       "      <td>15.0</td>\n",
       "      <td>ABC Investments Inc.</td>\n",
       "      <td>Dissolved - Voluntary</td>\n",
       "      <td>39262</td>\n",
       "      <td>Company</td>\n",
       "      <td>1997-11-10</td>\n",
       "    </tr>\n",
       "    <tr>\n",
       "      <th>16</th>\n",
       "      <td>16.0</td>\n",
       "      <td>ABC Life Science Inc.</td>\n",
       "      <td>Dissolved - Voluntary</td>\n",
       "      <td>76386</td>\n",
       "      <td>Company</td>\n",
       "      <td>2016-01-21</td>\n",
       "    </tr>\n",
       "    <tr>\n",
       "      <th>17</th>\n",
       "      <td>17.0</td>\n",
       "      <td>ABC Limited</td>\n",
       "      <td>Dissolved (Prior To June 2004)</td>\n",
       "      <td>13992</td>\n",
       "      <td>Company</td>\n",
       "      <td>1981-01-29</td>\n",
       "    </tr>\n",
       "    <tr>\n",
       "      <th>18</th>\n",
       "      <td>18.0</td>\n",
       "      <td>ABC Locksmiths Limited</td>\n",
       "      <td>Dissolved (Prior To June 2004)</td>\n",
       "      <td>14360</td>\n",
       "      <td>Company</td>\n",
       "      <td>1981-04-28</td>\n",
       "    </tr>\n",
       "    <tr>\n",
       "      <th>19</th>\n",
       "      <td>19.0</td>\n",
       "      <td>ABC Plumbing &amp; Heating Ltd</td>\n",
       "      <td>Active</td>\n",
       "      <td>79894</td>\n",
       "      <td>Company</td>\n",
       "      <td>2017-07-19</td>\n",
       "    </tr>\n",
       "    <tr>\n",
       "      <th>20</th>\n",
       "      <td>20.0</td>\n",
       "      <td>ABC Pre School Limited</td>\n",
       "      <td>Previous Name</td>\n",
       "      <td>45967</td>\n",
       "      <td>Company</td>\n",
       "      <td>2002-03-15</td>\n",
       "    </tr>\n",
       "    <tr>\n",
       "      <th>21</th>\n",
       "      <td>21.0</td>\n",
       "      <td>ABC SIDING &amp; WINDOWS INC.</td>\n",
       "      <td>Active</td>\n",
       "      <td>39755</td>\n",
       "      <td>Company</td>\n",
       "      <td>1998-02-05</td>\n",
       "    </tr>\n",
       "    <tr>\n",
       "      <th>22</th>\n",
       "      <td>22.0</td>\n",
       "      <td>ABC Snack Company Ltd.</td>\n",
       "      <td>Dissolved - Voluntary</td>\n",
       "      <td>79594</td>\n",
       "      <td>Company</td>\n",
       "      <td>2017-05-31</td>\n",
       "    </tr>\n",
       "    <tr>\n",
       "      <th>23</th>\n",
       "      <td>23.0</td>\n",
       "      <td>ABC Systems Inc.</td>\n",
       "      <td>Dissolved - Involuntary</td>\n",
       "      <td>32650</td>\n",
       "      <td>Company</td>\n",
       "      <td>1993-10-18</td>\n",
       "    </tr>\n",
       "    <tr>\n",
       "      <th>24</th>\n",
       "      <td>24.0</td>\n",
       "      <td>ABC TAXI &amp; BUS LINES LIMITED</td>\n",
       "      <td>Dissolved (Prior To June 2004)</td>\n",
       "      <td>12464</td>\n",
       "      <td>Company</td>\n",
       "      <td>1979-11-26</td>\n",
       "    </tr>\n",
       "    <tr>\n",
       "      <th>25</th>\n",
       "      <td>25.0</td>\n",
       "      <td>ABC Towing and Recovery Ltd.</td>\n",
       "      <td>Dissolved - Voluntary</td>\n",
       "      <td>77850</td>\n",
       "      <td>Company</td>\n",
       "      <td>2016-09-09</td>\n",
       "    </tr>\n",
       "    <tr>\n",
       "      <th>26</th>\n",
       "      <td>26.0</td>\n",
       "      <td>ABC Transportation Company</td>\n",
       "      <td>Cancelled - Voluntary</td>\n",
       "      <td>3118F</td>\n",
       "      <td>Company</td>\n",
       "      <td>1989-11-08</td>\n",
       "    </tr>\n",
       "    <tr>\n",
       "      <th>27</th>\n",
       "      <td>27.0</td>\n",
       "      <td>ABC TRUCKING / EAST WEST EXPRESS MOVERS LTD.</td>\n",
       "      <td>Dissolved - Voluntary</td>\n",
       "      <td>64656</td>\n",
       "      <td>Company</td>\n",
       "      <td>2011-03-29</td>\n",
       "    </tr>\n",
       "    <tr>\n",
       "      <th>28</th>\n",
       "      <td>28.0</td>\n",
       "      <td>ABC WELLON'S ENTERPRISES LIMITED</td>\n",
       "      <td>Active</td>\n",
       "      <td>62744</td>\n",
       "      <td>Company</td>\n",
       "      <td>2010-06-18</td>\n",
       "    </tr>\n",
       "    <tr>\n",
       "      <th>29</th>\n",
       "      <td>29.0</td>\n",
       "      <td>ABCAN INVESTMENTS INC.</td>\n",
       "      <td>Dissolved - Involuntary</td>\n",
       "      <td>23946</td>\n",
       "      <td>Company</td>\n",
       "      <td>1988-12-13</td>\n",
       "    </tr>\n",
       "    <tr>\n",
       "      <th>30</th>\n",
       "      <td>30.0</td>\n",
       "      <td>ABCANN MEDICINALS INC.</td>\n",
       "      <td>Active</td>\n",
       "      <td>83794</td>\n",
       "      <td>Company</td>\n",
       "      <td>2019-04-15</td>\n",
       "    </tr>\n",
       "    <tr>\n",
       "      <th>31</th>\n",
       "      <td>31.0</td>\n",
       "      <td>ABCD Tech Services Inc.</td>\n",
       "      <td>Active</td>\n",
       "      <td>65609</td>\n",
       "      <td>Company</td>\n",
       "      <td>2011-08-15</td>\n",
       "    </tr>\n",
       "    <tr>\n",
       "      <th>32</th>\n",
       "      <td>32.0</td>\n",
       "      <td>ABCO Construction Limited</td>\n",
       "      <td>Dissolved - Involuntary</td>\n",
       "      <td>25451</td>\n",
       "      <td>Company</td>\n",
       "      <td>1989-09-26</td>\n",
       "    </tr>\n",
       "    <tr>\n",
       "      <th>33</th>\n",
       "      <td>33.0</td>\n",
       "      <td>ABCO INDUSTRIES LIMITED</td>\n",
       "      <td>Cancelled - Voluntary</td>\n",
       "      <td>2251F</td>\n",
       "      <td>Company</td>\n",
       "      <td>1985-01-29</td>\n",
       "    </tr>\n",
       "    <tr>\n",
       "      <th>34</th>\n",
       "      <td>34.0</td>\n",
       "      <td>ABCO OFFSHORE SERVICES LIMITED</td>\n",
       "      <td>Dissolved - Involuntary</td>\n",
       "      <td>11631</td>\n",
       "      <td>Company</td>\n",
       "      <td>1979-03-13</td>\n",
       "    </tr>\n",
       "  </tbody>\n",
       "</table>\n",
       "</div>"
      ],
      "text/plain": [
       "       0                                             1  \\\n",
       "0    NaN                                          Name   \n",
       "1    1.0                            A B C Cabs Limited   \n",
       "2    2.0                          A B C GROCERIES LTD.   \n",
       "3    3.0           A-B-C GENERAL MECHANIC INCORPORATED   \n",
       "4    4.0                   A.B.C. CONSTRUCTION LIMITED   \n",
       "5    5.0                        A.B.C. RECREATION LTD.   \n",
       "6    6.0                      A.B.C. TAXICABS, LIMITED   \n",
       "7    7.0                          ABC BUILDERS LIMITED   \n",
       "8    8.0                       ABC CABS (1991) LIMITED   \n",
       "9    9.0                    ABC CLEANING SERVICES INC.   \n",
       "10  10.0         ABC CREDIT BUREAU COLLECTIONS LIMITED   \n",
       "11  11.0                              ABC Daycare Ltd.   \n",
       "12  12.0                       ABC Enterprises Limited   \n",
       "13  13.0                             ABC Fisheries Ltd   \n",
       "14  14.0                             ABC HOLDINGS INC.   \n",
       "15  15.0                          ABC Investments Inc.   \n",
       "16  16.0                         ABC Life Science Inc.   \n",
       "17  17.0                                   ABC Limited   \n",
       "18  18.0                        ABC Locksmiths Limited   \n",
       "19  19.0                    ABC Plumbing & Heating Ltd   \n",
       "20  20.0                        ABC Pre School Limited   \n",
       "21  21.0                     ABC SIDING & WINDOWS INC.   \n",
       "22  22.0                        ABC Snack Company Ltd.   \n",
       "23  23.0                              ABC Systems Inc.   \n",
       "24  24.0                  ABC TAXI & BUS LINES LIMITED   \n",
       "25  25.0                  ABC Towing and Recovery Ltd.   \n",
       "26  26.0                    ABC Transportation Company   \n",
       "27  27.0  ABC TRUCKING / EAST WEST EXPRESS MOVERS LTD.   \n",
       "28  28.0              ABC WELLON'S ENTERPRISES LIMITED   \n",
       "29  29.0                        ABCAN INVESTMENTS INC.   \n",
       "30  30.0                        ABCANN MEDICINALS INC.   \n",
       "31  31.0                       ABCD Tech Services Inc.   \n",
       "32  32.0                     ABCO Construction Limited   \n",
       "33  33.0                       ABCO INDUSTRIES LIMITED   \n",
       "34  34.0                ABCO OFFSHORE SERVICES LIMITED   \n",
       "\n",
       "                                 2       3                 4           5  \n",
       "0                           Status  Number  Corporation Type        Date  \n",
       "1          Dissolved - Involuntary   23105           Company  1988-06-24  \n",
       "2                           Active   62087           Company  2010-03-17  \n",
       "3            Dissolved - Voluntary   23882           Company  1988-11-28  \n",
       "4   Dissolved (Prior To June 2004)    5321           Company  1969-12-03  \n",
       "5                           Active   70235           Company  2013-05-27  \n",
       "6   Dissolved (Prior To June 2004)    2960           Company  1958-06-11  \n",
       "7   Dissolved (Prior To June 2004)   29841           Company  1992-03-20  \n",
       "8          Dissolved - Involuntary   27978           Company  1991-03-11  \n",
       "9                           Active   92638           Company  2023-04-28  \n",
       "10         Cancelled - Involuntary   49863           Company  2004-06-30  \n",
       "11                          Active   93562           Company  2023-09-15  \n",
       "12  Dissolved (Prior To June 2004)    9404           Company  1976-10-29  \n",
       "13         Dissolved - Involuntary   38681           Company  1997-06-19  \n",
       "14         Dissolved - Involuntary   37505           Company  1996-11-01  \n",
       "15           Dissolved - Voluntary   39262           Company  1997-11-10  \n",
       "16           Dissolved - Voluntary   76386           Company  2016-01-21  \n",
       "17  Dissolved (Prior To June 2004)   13992           Company  1981-01-29  \n",
       "18  Dissolved (Prior To June 2004)   14360           Company  1981-04-28  \n",
       "19                          Active   79894           Company  2017-07-19  \n",
       "20                   Previous Name   45967           Company  2002-03-15  \n",
       "21                          Active   39755           Company  1998-02-05  \n",
       "22           Dissolved - Voluntary   79594           Company  2017-05-31  \n",
       "23         Dissolved - Involuntary   32650           Company  1993-10-18  \n",
       "24  Dissolved (Prior To June 2004)   12464           Company  1979-11-26  \n",
       "25           Dissolved - Voluntary   77850           Company  2016-09-09  \n",
       "26           Cancelled - Voluntary   3118F           Company  1989-11-08  \n",
       "27           Dissolved - Voluntary   64656           Company  2011-03-29  \n",
       "28                          Active   62744           Company  2010-06-18  \n",
       "29         Dissolved - Involuntary   23946           Company  1988-12-13  \n",
       "30                          Active   83794           Company  2019-04-15  \n",
       "31                          Active   65609           Company  2011-08-15  \n",
       "32         Dissolved - Involuntary   25451           Company  1989-09-26  \n",
       "33           Cancelled - Voluntary   2251F           Company  1985-01-29  \n",
       "34         Dissolved - Involuntary   11631           Company  1979-03-13  "
      ]
     },
     "execution_count": 62,
     "metadata": {},
     "output_type": "execute_result"
    }
   ],
   "source": [
    "df[4]"
   ]
  },
  {
   "cell_type": "code",
   "execution_count": 63,
   "id": "26327707-c6f4-4522-9299-3fd122eda494",
   "metadata": {},
   "outputs": [],
   "source": [
    "df[4].columns = df[4].iloc[0]"
   ]
  },
  {
   "cell_type": "code",
   "execution_count": 65,
   "id": "768550a1-6cc4-4d6b-aec9-bd408a95c480",
   "metadata": {},
   "outputs": [],
   "source": [
    "df[4] = df[4].drop(0)\n"
   ]
  },
  {
   "cell_type": "code",
   "execution_count": 68,
   "id": "e8c78dfc-db38-4b0d-b0b6-b07e4d57ca22",
   "metadata": {},
   "outputs": [],
   "source": [
    "df[4].to_csv('data_abc_pipe_Delimeter.csv',index=None,sep='|')"
   ]
  },
  {
   "cell_type": "code",
   "execution_count": null,
   "id": "d4cba5ae-8d2a-4136-9004-2ffdb3f3e349",
   "metadata": {},
   "outputs": [],
   "source": []
  }
 ],
 "metadata": {
  "kernelspec": {
   "display_name": "Python 3 (ipykernel)",
   "language": "python",
   "name": "python3"
  },
  "language_info": {
   "codemirror_mode": {
    "name": "ipython",
    "version": 3
   },
   "file_extension": ".py",
   "mimetype": "text/x-python",
   "name": "python",
   "nbconvert_exporter": "python",
   "pygments_lexer": "ipython3",
   "version": "3.10.6"
  }
 },
 "nbformat": 4,
 "nbformat_minor": 5
}
